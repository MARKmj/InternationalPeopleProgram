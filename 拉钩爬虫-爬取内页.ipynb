{
 "cells": [
  {
   "cell_type": "code",
   "execution_count": 35,
   "metadata": {},
   "outputs": [],
   "source": [
    "#爬取网址：\n",
    "#Request URL:https://www.lagou.com/jobs/positionAjax.json?needAdditionResult=false ‘显示频繁操作’\n",
    "#Referer: https://www.lagou.com/zhaopin/Python/?labelWords=label\n",
    "#Request Method: POST\n",
    "#User-Agent: Mozilla/5.0 (Windows NT 10.0; Win64; x64) AppleWebKit/537.36 (KHTML, like Gecko) Chrome/74.0.3729.131 Safari/537.36\n",
    "\n",
    "#思路整理：发送get请求，获取session-->更新session，发送post请求-->获取数据，储存-->数据多维度可视化\n",
    "\n"
   ]
  },
  {
   "cell_type": "code",
   "execution_count": 36,
   "metadata": {},
   "outputs": [],
   "source": [
    "#代码：\n",
    "#!/usr/bin/env python3\n",
    "#encoding:utf-8\n",
    "\n",
    "\n",
    "import json\n",
    "import requests\n",
    "import xlwt\n",
    "import time"
   ]
  },
  {
   "cell_type": "code",
   "execution_count": 37,
   "metadata": {},
   "outputs": [],
   "source": [
    "#获取储存职位信息的json对象，遍历获得公司名、福利待遇、工作地点、学历要求、工作类型、发布时间、职位名称、薪资、工作年限\n",
    "def get_json(url,datas):\n",
    "    my_headers = {\n",
    "        'User-Agent': 'Mozilla/5.0 (Windows NT 10.0; Win64; x64) AppleWebKit/537.36 (KHTML, like Gecko) Chrome/74.0.3729.131 Safari/537.36',\n",
    "        'Referer': 'https://www.lagou.com/jobs/list_%E6%95%B0%E6%8D%AE%E6%8C%96%E6%8E%98?city=%E5%85%A8%E5%9B%BD&cl=false&fromSearch=true&labelWords=&suginput=',\n",
    "        'Content-Type': 'application/x-www-form-urlencoded; charset=UTF-8',\n",
    "    }\n",
    "    time.sleep(15)\n",
    "    #获取session\n",
    "    ses = requests.Session()\n",
    "    #更新\n",
    "    ses.headers.update(my_headers)\n",
    "    ses.get('https://www.lagou.com/jobs/list_python?labelWords=&fromSearch=true&suginput=')\n",
    "    content = ses.post(url = url,data = datas)\n",
    "    result = content.json()\n",
    "    info = result['content']['positionResult']['result']\n",
    "    info_list = []\n",
    "    #-----------------------------------------------------------------------------------------\n",
    "    #更新点：减少重复度，将分类添加至列表，遍历列表即可\n",
    "    #-----------------------------------------------------------------------------------------\n",
    "    classification_list = ['positionId','city','companyFullName','companyLabelList','district','education','firstType','formatCreateTime','positionName','salary','workYear']\n",
    "    for job in info:\n",
    "        information = []\n",
    "        for classify in classification_list:\n",
    "            information.append(job[classify])\n",
    "        info_list.append(information)\n",
    "        \n",
    "    return info_list\n",
    "        "
   ]
  },
  {
   "cell_type": "code",
   "execution_count": 38,
   "metadata": {},
   "outputs": [],
   "source": [
    "#编写主函数\n",
    "def main():\n",
    "    page = int(input('Please input the total pages number you want to acquire'))\n",
    "    info_result = []\n",
    "    title = ['岗位id','城市','公司全名','福利待遇','工作地点','学历要求','工作类型','发布时间','职位名称','薪资','工作年限']\n",
    "    info_result.append(title)\n",
    "    for x in range(1,page+1):\n",
    "        # https://www.lagou.com/jobs/positionAjax.json?needAddtionalResult=false\n",
    "        url = 'https://www.lagou.com/jobs/positionAjax.json?needAdditionResult=false'\n",
    "        #更改点：'pn':x,   将x，更改为1，否则报错！！！！\n",
    "        datas = {\n",
    "            'first':'false',\n",
    "            'pn':x,\n",
    "            'kd':'数据挖掘',\n",
    "        }\n",
    "        try:\n",
    "            info = get_json(url,datas)\n",
    "            info_result = info_result + info\n",
    "            print('第%s页正常采集'%x)\n",
    "        except Exception as msg:\n",
    "            print('第%s页出现问题'%x)\n",
    "            \n",
    "        #创建workbook，即Excel\n",
    "        workbook = xlwt.Workbook(encoding = 'utf-8')\n",
    "        #创建表，第二参数用于确认同一个cell单元是否可以重设值\n",
    "        worksheet = workbook.add_sheet('lagouzp',cell_overwrite_ok=True)\n",
    "        for i,row in enumerate(info_result):\n",
    "            for j,col in enumerate(row):\n",
    "                worksheet.write(i,j,col)\n",
    "        workbook.save('拉钩_数据挖掘.xls')\n",
    "    print('code is over!!!')\n",
    "        "
   ]
  },
  {
   "cell_type": "code",
   "execution_count": 39,
   "metadata": {},
   "outputs": [
    {
     "name": "stdout",
     "output_type": "stream",
     "text": [
    
     ]
    }
   ],
   "source": [
    "#执行函数\n",
    "if __name__ == '__main__':\n",
    "    main()"
   ]
  },
  {
   "cell_type": "code",
   "execution_count": null,
   "metadata": {},
   "outputs": [],
   "source": []
  }
 ],
 "metadata": {
  "kernelspec": {
   "display_name": "Python 3",
   "language": "python",
   "name": "python3"
  },
  "language_info": {
   "codemirror_mode": {
    "name": "ipython",
    "version": 3
   },
   "file_extension": ".py",
   "mimetype": "text/x-python",
   "name": "python",
   "nbconvert_exporter": "python",
   "pygments_lexer": "ipython3",
   "version": "3.6.4"
  }
 },
 "nbformat": 4,
 "nbformat_minor": 2
}
