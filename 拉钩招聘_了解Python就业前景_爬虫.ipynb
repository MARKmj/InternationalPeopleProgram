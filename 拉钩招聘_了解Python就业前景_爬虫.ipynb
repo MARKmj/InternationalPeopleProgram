{
 "cells": [
  {
   "cell_type": "code",
   "execution_count": 1,
   "metadata": {},
   "outputs": [],
   "source": [
    "#爬取网址：\n",
    "#Request URL:https://www.lagou.com/jobs/positionAjax.json?needAdditionResult=false ‘显示频繁操作’\n",
    "#Referer: https://www.lagou.com/zhaopin/Python/?labelWords=label\n",
    "#Request Method: POST\n",
    "#User-Agent: Mozilla/5.0 (Windows NT 10.0; Win64; x64) AppleWebKit/537.36 (KHTML, like Gecko) Chrome/74.0.3729.131 Safari/537.36\n",
    "\n",
    "#思路整理：发送get请求，获取session-->更新session，发送post请求-->获取数据，储存-->数据多维度可视化\n",
    "\n"
   ]
  },
  {
   "cell_type": "code",
   "execution_count": 2,
   "metadata": {},
   "outputs": [],
   "source": [
    "#代码：\n",
    "#!/usr/bin/env python3\n",
    "#encoding:utf-8\n",
    "'''\n",
    "Created on 19-5-05\n",
    "@title:\"\n",
    "@author:Xusl\n",
    "'''\n",
    "\n",
    "import json\n",
    "import requests\n",
    "import xlwt\n",
    "import time"
   ]
  },
  {
   "cell_type": "code",
   "execution_count": 13,
   "metadata": {},
   "outputs": [],
   "source": [
    "#获取储存职位信息的json对象，遍历获得公司名、福利待遇、工作地点、学历要求、工作类型、发布时间、职位名称、薪资、工作年限\n",
    "def get_json(url,datas):\n",
    "    my_headers = {\n",
    "        'User-Agent': 'Mozilla/5.0 (Windows NT 10.0; Win64; x64) AppleWebKit/537.36 (KHTML, like Gecko) Chrome/74.0.3729.131 Safari/537.36',\n",
    "        'Referer': 'https://www.lagou.com/jobs/list_python?labelWords=&fromSearch=true&suginput=',\n",
    "        'Content-Type': 'application/x-www-form-urlencoded; charset=UTF-8',\n",
    "    }\n",
    "    time.sleep(5)\n",
    "    #获取session\n",
    "    ses = requests.Session()\n",
    "    #更新\n",
    "    ses.headers.update(my_headers)\n",
    "    ses.get('https://www.lagou.com/jobs/list_python?labelWords=&fromSearch=true&suginput=')\n",
    "    content = ses.post(url = url,data = datas)\n",
    "    result = content.json()\n",
    "    info = result['content']['positionResult']['result']\n",
    "    info_list = []\n",
    "    #-----------------------------------------------------------------------------------------\n",
    "    #更新点：减少重复度，将分类添加至列表，遍历列表即可\n",
    "    #-----------------------------------------------------------------------------------------\n",
    "    classification_list = ['positionId','city','companyFullName','companyLabelList','district','education','firstType','formatCreateTime','positionName','salary','workYear']\n",
    "    for job in info:\n",
    "        information = []\n",
    "        for classify in classification_list:\n",
    "            information.append(job[classify])\n",
    "        info_list.append(information)\n",
    "        \n",
    "    return info_list\n",
    "        \n",
    "        "
   ]
  },
  {
   "cell_type": "code",
   "execution_count": 14,
   "metadata": {},
   "outputs": [],
   "source": [
    "#编写主函数\n",
    "def main():\n",
    "    page = int(input('Please input the total pages number you want to acquire'))\n",
    "    info_result = []\n",
    "    title = ['岗位id','城市','公司全名','福利待遇','工作地点','学历要求','工作类型','发布时间','职位名称','薪资','工作年限']\n",
    "    info_result.append(title)\n",
    "    for x in range(1,page+1):\n",
    "        url = 'https://www.lagou.com/jobs/positionAjax.json?needAdditionResult=false'\n",
    "        #更改点：'pn':x,   将x，更改为1，否则报错！！！！\n",
    "        datas = {\n",
    "            'first':'false',\n",
    "            'pn':1,\n",
    "            'kd':'python',\n",
    "        }\n",
    "        try:\n",
    "            info = get_json(url,datas)\n",
    "            info_result = info_result + info\n",
    "            print('第%s页正常采集'%x)\n",
    "        except Exception as msg:\n",
    "            print('第%s页出现问题'%x)\n",
    "            \n",
    "        #创建workbook，即Excel\n",
    "        workbook = xlwt.Workbook(encoding = 'utf-8')\n",
    "        #创建表，第二参数用于确认同一个cell单元是否可以重设值\n",
    "        worksheet = workbook.add_sheet('lagouzp',cell_overwrite_ok=True)\n",
    "        for i,row in enumerate(info_result):\n",
    "            for j,col in enumerate(row):\n",
    "                worksheet.write(i,j,col)\n",
    "        workbook.save('lagouzp.xls')\n",
    "        \n",
    "        \n",
    "    "
   ]
  },
  {
   "cell_type": "code",
   "execution_count": 16,
   "metadata": {},
   "outputs": [
    {
     "name": "stdout",
     "output_type": "stream",
     "text": [
      "Please input the total pages number you want to acquire20\n",
      "第1页正常采集\n",
      "第2页正常采集\n",
      "第3页正常采集\n",
      "第4页正常采集\n",
      "第5页正常采集\n",
      "第6页正常采集\n",
      "第7页正常采集\n",
      "第8页正常采集\n",
      "第9页正常采集\n",
      "第10页正常采集\n",
      "第11页正常采集\n",
      "第12页正常采集\n",
      "第13页正常采集\n",
      "第14页正常采集\n",
      "第15页正常采集\n",
      "第16页正常采集\n",
      "第17页正常采集\n",
      "第18页正常采集\n",
      "第19页正常采集\n",
      "第20页正常采集\n"
     ]
    }
   ],
   "source": [
    "#执行函数\n",
    "if __name__ == '__main__':\n",
    "    main()"
   ]
  },
  {
   "cell_type": "code",
   "execution_count": 19,
   "metadata": {},
   "outputs": [],
   "source": [
    "#使用pyecharts进行数据可视化\n",
    "from pyecharts import Bar\n",
    "\n",
    "city_nms_top10 = ['北京','上海','深圳','成都','杭州','广州','武汉','南京','苏州','郑州','天津','西安','东莞','珠海','合肥','厦门','宁波','南宁','重庆','佛山','大连','哈尔滨','长沙','福州','中山']\n",
    "city_nums_top10 = [149,95,77,22,17,17,16,13,7,5,4,4,3,2,2,2,1,1,1,1,1,1,1,1,1]\n",
    "\n",
    "bar = Bar('Python岗位','各城市数量')\n",
    "bar.add('数量',city_nms_top10,city_nums_top10,is_more_utils = True)\n",
    "bar.render('Python岗位各城市数量.html')"
   ]
  },
  {
   "cell_type": "code",
   "execution_count": 27,
   "metadata": {},
   "outputs": [],
   "source": [
    "#地图分布展示\n",
    "from pyecharts import Geo\n",
    "\n",
    "city_nms_top10 = ['北京','上海','深圳','成都','杭州','广州','武汉','南京','苏州','郑州','天津','西安','东莞','珠海','合肥','厦门','宁波','南宁','重庆','佛山','大连','哈尔滨','长沙','福州','中山']\n",
    "city_nums_top10 = [149,95,77,22,17,17,16,13,7,5,4,4,3,2,2,2,1,1,1,1,1,1,1,1,1]\n",
    "city_datas = list(zip(city_nms_top10,city_nums_top10))\n",
    "\n",
    "geo = Geo('Python岗位城市分布图','数据来源-拉钩',title_color = '#fff',\n",
    "           title_pos = 'center',width = 1200,\n",
    "           height = 600,background_color = '#404a59')\n",
    "attr,value = geo.cast(city_datas)\n",
    "\n",
    "geo.add('',attr,value,visual_range = [0,200],visual_text_color = '#fff',\n",
    "        symbol_size = 15,is_visualmap = True)\n",
    "geo.render('Python岗位城市分布地图_scatter.html')\n",
    "\n",
    "geo = Geo('Python岗位城市分布地图','数据来源-拉钩',title_color = '#fff',\n",
    "           title_pos = 'center',width = 1200,\n",
    "           height = 600,background_color = '#404a59')\n",
    "attr,value = geo.cast(city_datas)\n",
    "geo.add('',attr,value,visual_range = [0,200],visual_text_color = '#fff',\n",
    "        symbol_size = 15,is_visualmap = True)\n",
    "\n",
    "geo.render('Python岗位城市分布地图_heatmap.html')\n"
   ]
  },
  {
   "cell_type": "code",
   "execution_count": 29,
   "metadata": {},
   "outputs": [],
   "source": [
    "#各个城市招聘情况\n",
    "from pyecharts import Pie\n",
    "\n",
    "pie = Pie()\n",
    "#只取前十位城市名称\n",
    "pie.add('',city_nms_top10[:10],city_nums_top10[:10],is_label_show = True)\n",
    "\n",
    "pie.render('Python岗位各城市分布饼图.html')"
   ]
  }
 ],
 "metadata": {
  "kernelspec": {
   "display_name": "Python 3",
   "language": "python",
   "name": "python3"
  },
  "language_info": {
   "codemirror_mode": {
    "name": "ipython",
    "version": 3
   },
   "file_extension": ".py",
   "mimetype": "text/x-python",
   "name": "python",
   "nbconvert_exporter": "python",
   "pygments_lexer": "ipython3",
   "version": "3.6.4"
  }
 },
 "nbformat": 4,
 "nbformat_minor": 2
}
